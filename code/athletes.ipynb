{
 "cells": [
  {
   "cell_type": "markdown",
   "metadata": {},
   "source": [
    "If any `\"path doesn't exist\"` issue: Move this file to the same directory where `data` folder is placed."
   ]
  },
  {
   "cell_type": "code",
   "execution_count": 1,
   "metadata": {},
   "outputs": [
    {
     "name": "stdout",
     "output_type": "stream",
     "text": [
      "24/08/11 10:28:51 WARN Utils: Your hostname, szymon-Lenovo-Legion-5-15ARH05H resolves to a loopback address: 127.0.1.1; using 192.168.0.38 instead (on interface wlp4s0)\n",
      "24/08/11 10:28:51 WARN Utils: Set SPARK_LOCAL_IP if you need to bind to another address\n"
     ]
    },
    {
     "name": "stderr",
     "output_type": "stream",
     "text": [
      "Setting default log level to \"WARN\".\n",
      "To adjust logging level use sc.setLogLevel(newLevel). For SparkR, use setLogLevel(newLevel).\n"
     ]
    },
    {
     "name": "stdout",
     "output_type": "stream",
     "text": [
      "24/08/11 10:28:52 WARN NativeCodeLoader: Unable to load native-hadoop library for your platform... using builtin-java classes where applicable\n"
     ]
    }
   ],
   "source": [
    "from pyspark.sql import SparkSession\n",
    "\n",
    "# Create a SparkSession\n",
    "spark = SparkSession.builder.appName(\"ReadCSV\").getOrCreate()"
   ]
  },
  {
   "cell_type": "markdown",
   "metadata": {},
   "source": [
    "### Olympic Athlete Bio"
   ]
  },
  {
   "cell_type": "code",
   "execution_count": 2,
   "metadata": {},
   "outputs": [
    {
     "name": "stderr",
     "output_type": "stream",
     "text": [
      "                                                                                \r"
     ]
    }
   ],
   "source": [
    "# Read the CSV file into a DataFrame\n",
    "Olympic_Athlete_Bio = spark.read.csv(\"data/Olympic_Athlete_Bio.csv\", header=True, inferSchema=True)"
   ]
  },
  {
   "cell_type": "code",
   "execution_count": 3,
   "metadata": {},
   "outputs": [
    {
     "name": "stdout",
     "output_type": "stream",
     "text": [
      "-RECORD 0-----------------------------\n",
      " athlete_id    | 65649                \n",
      " name          | Ivanka Bonova        \n",
      " sex           | Female               \n",
      " born          | 4 April 1949         \n",
      " height        | 166                  \n",
      " weight        | 55                   \n",
      " country       |  Bulgaria            \n",
      " country_noc   | BUL                  \n",
      " description   | Personal Best: 40... \n",
      " special_notes | null                 \n",
      "only showing top 1 row\n",
      "\n"
     ]
    }
   ],
   "source": [
    "# Show the DataFrame\n",
    "Olympic_Athlete_Bio.show(1, vertical=True)"
   ]
  },
  {
   "cell_type": "code",
   "execution_count": 4,
   "metadata": {},
   "outputs": [
    {
     "name": "stdout",
     "output_type": "stream",
     "text": [
      "root\n",
      " |-- athlete_id: integer (nullable = true)\n",
      " |-- name: string (nullable = true)\n",
      " |-- sex: string (nullable = true)\n",
      " |-- born: string (nullable = true)\n",
      " |-- height: integer (nullable = true)\n",
      " |-- weight: string (nullable = true)\n",
      " |-- country: string (nullable = true)\n",
      " |-- country_noc: string (nullable = true)\n",
      " |-- description: string (nullable = true)\n",
      " |-- special_notes: string (nullable = true)\n",
      "\n"
     ]
    }
   ],
   "source": [
    "Olympic_Athlete_Bio.printSchema()"
   ]
  },
  {
   "cell_type": "code",
   "execution_count": 5,
   "metadata": {},
   "outputs": [
    {
     "data": {
      "text/plain": [
       "['athlete_id',\n",
       " 'name',\n",
       " 'sex',\n",
       " 'born',\n",
       " 'height',\n",
       " 'weight',\n",
       " 'country',\n",
       " 'country_noc',\n",
       " 'description',\n",
       " 'special_notes']"
      ]
     },
     "execution_count": 5,
     "metadata": {},
     "output_type": "execute_result"
    }
   ],
   "source": [
    "Olympic_Athlete_Bio.columns"
   ]
  },
  {
   "cell_type": "code",
   "execution_count": 6,
   "metadata": {},
   "outputs": [
    {
     "name": "stderr",
     "output_type": "stream",
     "text": [
      "                                                                                \r"
     ]
    },
    {
     "data": {
      "text/html": [
       "<div>\n",
       "<style scoped>\n",
       "    .dataframe tbody tr th:only-of-type {\n",
       "        vertical-align: middle;\n",
       "    }\n",
       "\n",
       "    .dataframe tbody tr th {\n",
       "        vertical-align: top;\n",
       "    }\n",
       "\n",
       "    .dataframe thead th {\n",
       "        text-align: right;\n",
       "    }\n",
       "</style>\n",
       "<table border=\"1\" class=\"dataframe\">\n",
       "  <thead>\n",
       "    <tr style=\"text-align: right;\">\n",
       "      <th></th>\n",
       "      <th>athlete_id</th>\n",
       "      <th>name</th>\n",
       "      <th>sex</th>\n",
       "      <th>born</th>\n",
       "      <th>height</th>\n",
       "      <th>weight</th>\n",
       "      <th>country</th>\n",
       "      <th>country_noc</th>\n",
       "      <th>description</th>\n",
       "      <th>special_notes</th>\n",
       "    </tr>\n",
       "  </thead>\n",
       "  <tbody>\n",
       "    <tr>\n",
       "      <th>0</th>\n",
       "      <td>65649</td>\n",
       "      <td>Ivanka Bonova</td>\n",
       "      <td>Female</td>\n",
       "      <td>4 April 1949</td>\n",
       "      <td>166.0</td>\n",
       "      <td>55</td>\n",
       "      <td>Bulgaria</td>\n",
       "      <td>BUL</td>\n",
       "      <td>Personal Best: 400 – 53.54 (1980).</td>\n",
       "      <td>None</td>\n",
       "    </tr>\n",
       "    <tr>\n",
       "      <th>1</th>\n",
       "      <td>112510</td>\n",
       "      <td>Nataliya Uryadova</td>\n",
       "      <td>Female</td>\n",
       "      <td>15 March 1977</td>\n",
       "      <td>184.0</td>\n",
       "      <td>70</td>\n",
       "      <td>Russian Federation</td>\n",
       "      <td>RUS</td>\n",
       "      <td>None</td>\n",
       "      <td>Listed in Olympians Who Won a Medal at the Eur...</td>\n",
       "    </tr>\n",
       "    <tr>\n",
       "      <th>2</th>\n",
       "      <td>114973</td>\n",
       "      <td>Essa Ismail Rashed</td>\n",
       "      <td>Male</td>\n",
       "      <td>14 December 1986</td>\n",
       "      <td>165.0</td>\n",
       "      <td>55</td>\n",
       "      <td>Qatar</td>\n",
       "      <td>QAT</td>\n",
       "      <td>Personal Best: 10000 – 27:20.97 (2006).</td>\n",
       "      <td>Listed in Olympians Who Won a Medal at the Asi...</td>\n",
       "    </tr>\n",
       "    <tr>\n",
       "      <th>3</th>\n",
       "      <td>30359</td>\n",
       "      <td>Péter Boros</td>\n",
       "      <td>Male</td>\n",
       "      <td>12 January 1908</td>\n",
       "      <td>NaN</td>\n",
       "      <td>None</td>\n",
       "      <td>Hungary</td>\n",
       "      <td>HUN</td>\n",
       "      <td>Between 1927 and 1938, Péter Boros competed as...</td>\n",
       "      <td>None</td>\n",
       "    </tr>\n",
       "    <tr>\n",
       "      <th>4</th>\n",
       "      <td>50557</td>\n",
       "      <td>Rudolf Piowatý</td>\n",
       "      <td>Male</td>\n",
       "      <td>28 April 1900</td>\n",
       "      <td>NaN</td>\n",
       "      <td>None</td>\n",
       "      <td>Czechoslovakia</td>\n",
       "      <td>TCH</td>\n",
       "      <td>Rudolf Piowaty joined the Czechoslovak militar...</td>\n",
       "      <td>None</td>\n",
       "    </tr>\n",
       "    <tr>\n",
       "      <th>...</th>\n",
       "      <td>...</td>\n",
       "      <td>...</td>\n",
       "      <td>...</td>\n",
       "      <td>...</td>\n",
       "      <td>...</td>\n",
       "      <td>...</td>\n",
       "      <td>...</td>\n",
       "      <td>...</td>\n",
       "      <td>...</td>\n",
       "      <td>...</td>\n",
       "    </tr>\n",
       "    <tr>\n",
       "      <th>155856</th>\n",
       "      <td>23748</td>\n",
       "      <td>Todd Makler</td>\n",
       "      <td>Male</td>\n",
       "      <td>8 January 1946</td>\n",
       "      <td>183.0</td>\n",
       "      <td>75</td>\n",
       "      <td>United States</td>\n",
       "      <td>USA</td>\n",
       "      <td>Todd Makler grew up in suburban Philadelphia, ...</td>\n",
       "      <td>Brother of Brooke Makler Son of Paul Makler, Sr.</td>\n",
       "    </tr>\n",
       "    <tr>\n",
       "      <th>155857</th>\n",
       "      <td>58581</td>\n",
       "      <td>Géza Hollósi</td>\n",
       "      <td>Male</td>\n",
       "      <td>2 May 1938</td>\n",
       "      <td>175.0</td>\n",
       "      <td>79</td>\n",
       "      <td>Hungary</td>\n",
       "      <td>HUN</td>\n",
       "      <td>Géza Hollósi had the following finishes at maj...</td>\n",
       "      <td>None</td>\n",
       "    </tr>\n",
       "    <tr>\n",
       "      <th>155858</th>\n",
       "      <td>30387</td>\n",
       "      <td>József Keresztessy</td>\n",
       "      <td>Male</td>\n",
       "      <td>19 September 1885</td>\n",
       "      <td>NaN</td>\n",
       "      <td>None</td>\n",
       "      <td>Hungary</td>\n",
       "      <td>HUN</td>\n",
       "      <td>József Keresztessy was the grandson of József ...</td>\n",
       "      <td>None</td>\n",
       "    </tr>\n",
       "    <tr>\n",
       "      <th>155859</th>\n",
       "      <td>69900</td>\n",
       "      <td>Alexander Thieme</td>\n",
       "      <td>Male</td>\n",
       "      <td>13 January 1954</td>\n",
       "      <td>187.0</td>\n",
       "      <td>84</td>\n",
       "      <td>East Germany</td>\n",
       "      <td>GDR</td>\n",
       "      <td>East German Sprinter Alexander Thieme reached ...</td>\n",
       "      <td>Listed in Olympians Who Won a Medal at the Eur...</td>\n",
       "    </tr>\n",
       "    <tr>\n",
       "      <th>155860</th>\n",
       "      <td>74003</td>\n",
       "      <td>Sunday Bada</td>\n",
       "      <td>Male</td>\n",
       "      <td>22 June 1969</td>\n",
       "      <td>188.0</td>\n",
       "      <td>79</td>\n",
       "      <td>Nigeria</td>\n",
       "      <td>NGR</td>\n",
       "      <td>Sunday Bada was a top Nigerian one-lap runner ...</td>\n",
       "      <td>Listed in Olympians Who Won a Medal at the Wor...</td>\n",
       "    </tr>\n",
       "  </tbody>\n",
       "</table>\n",
       "<p>155861 rows × 10 columns</p>\n",
       "</div>"
      ],
      "text/plain": [
       "        athlete_id                name     sex               born  height  \\\n",
       "0            65649       Ivanka Bonova  Female       4 April 1949   166.0   \n",
       "1           112510   Nataliya Uryadova  Female      15 March 1977   184.0   \n",
       "2           114973  Essa Ismail Rashed    Male   14 December 1986   165.0   \n",
       "3            30359         Péter Boros    Male    12 January 1908     NaN   \n",
       "4            50557      Rudolf Piowatý    Male      28 April 1900     NaN   \n",
       "...            ...                 ...     ...                ...     ...   \n",
       "155856       23748         Todd Makler    Male     8 January 1946   183.0   \n",
       "155857       58581        Géza Hollósi    Male         2 May 1938   175.0   \n",
       "155858       30387  József Keresztessy    Male  19 September 1885     NaN   \n",
       "155859       69900    Alexander Thieme    Male    13 January 1954   187.0   \n",
       "155860       74003         Sunday Bada    Male       22 June 1969   188.0   \n",
       "\n",
       "       weight              country country_noc  \\\n",
       "0          55             Bulgaria         BUL   \n",
       "1          70   Russian Federation         RUS   \n",
       "2          55                Qatar         QAT   \n",
       "3        None              Hungary         HUN   \n",
       "4        None       Czechoslovakia         TCH   \n",
       "...       ...                  ...         ...   \n",
       "155856     75        United States         USA   \n",
       "155857     79              Hungary         HUN   \n",
       "155858   None              Hungary         HUN   \n",
       "155859     84         East Germany         GDR   \n",
       "155860     79              Nigeria         NGR   \n",
       "\n",
       "                                              description  \\\n",
       "0                      Personal Best: 400 – 53.54 (1980).   \n",
       "1                                                    None   \n",
       "2                 Personal Best: 10000 – 27:20.97 (2006).   \n",
       "3       Between 1927 and 1938, Péter Boros competed as...   \n",
       "4       Rudolf Piowaty joined the Czechoslovak militar...   \n",
       "...                                                   ...   \n",
       "155856  Todd Makler grew up in suburban Philadelphia, ...   \n",
       "155857  Géza Hollósi had the following finishes at maj...   \n",
       "155858  József Keresztessy was the grandson of József ...   \n",
       "155859  East German Sprinter Alexander Thieme reached ...   \n",
       "155860  Sunday Bada was a top Nigerian one-lap runner ...   \n",
       "\n",
       "                                            special_notes  \n",
       "0                                                    None  \n",
       "1       Listed in Olympians Who Won a Medal at the Eur...  \n",
       "2       Listed in Olympians Who Won a Medal at the Asi...  \n",
       "3                                                    None  \n",
       "4                                                    None  \n",
       "...                                                   ...  \n",
       "155856   Brother of Brooke Makler Son of Paul Makler, Sr.  \n",
       "155857                                               None  \n",
       "155858                                               None  \n",
       "155859  Listed in Olympians Who Won a Medal at the Eur...  \n",
       "155860  Listed in Olympians Who Won a Medal at the Wor...  \n",
       "\n",
       "[155861 rows x 10 columns]"
      ]
     },
     "execution_count": 6,
     "metadata": {},
     "output_type": "execute_result"
    }
   ],
   "source": [
    "Olympic_Athlete_Bio.toPandas()"
   ]
  },
  {
   "cell_type": "code",
   "execution_count": 7,
   "metadata": {},
   "outputs": [
    {
     "name": "stdout",
     "output_type": "stream",
     "text": [
      "+----------+--------------------+------+----------------+------+------+-------------------+-----------+--------------------+--------------------+-------------------+\n",
      "|athlete_id|                name|   sex|            born|height|weight|            country|country_noc|         description|       special_notes|      COUNTRY_UPPER|\n",
      "+----------+--------------------+------+----------------+------+------+-------------------+-----------+--------------------+--------------------+-------------------+\n",
      "|     65649|       Ivanka Bonova|Female|    4 April 1949|   166|    55|           Bulgaria|        BUL|Personal Best: 40...|                null|           BULGARIA|\n",
      "|    112510|   Nataliya Uryadova|Female|   15 March 1977|   184|    70| Russian Federation|        RUS|                null|Listed in Olympia...| RUSSIAN FEDERATION|\n",
      "|    114973|  Essa Ismail Rashed|  Male|14 December 1986|   165|    55|              Qatar|        QAT|Personal Best: 10...|Listed in Olympia...|              QATAR|\n",
      "|     30359|         Péter Boros|  Male| 12 January 1908|  null|  null|            Hungary|        HUN|Between 1927 and ...|                null|            HUNGARY|\n",
      "|     50557|      Rudolf Piowatý|  Male|   28 April 1900|  null|  null|     Czechoslovakia|        TCH|Rudolf Piowaty jo...|                null|     CZECHOSLOVAKIA|\n",
      "|    146111|  Svetlana Kholomina|Female| 9 November 1997|  null|  null|                ROC|        ROC|                null|                null|                ROC|\n",
      "|    133041|    Vincent Riendeau|  Male|13 December 1996|   178|    68|             Canada|        CAN|                null|Listed in Olympia...|             CANADA|\n",
      "|    110425|         Tanja Morel|Female|  4 October 1975|   164|    58|        Switzerland|        SUI|                null|Listed in Olympia...|        SWITZERLAND|\n",
      "|    110705|     Maksim Shabalin|  Male| 25 January 1982|   183|    76| Russian Federation|        RUS|                null|Listed in Olympia...| RUSSIAN FEDERATION|\n",
      "|     54541|           Gé Regter|  Male|    6 March 1916|  null|  null|        Netherlands|        NED|                null|                null|        NETHERLANDS|\n",
      "|     22721|  Aristide Pontenani|  Male|            null|  null|  null|              Italy|        ITA|                null|                null|              ITALY|\n",
      "|     56266|      Go Yeong-Chang|  Male|   21 March 1926|   167|    75|  Republic of Korea|        KOR|                null|                null|  REPUBLIC OF KOREA|\n",
      "|     82227|     Marlies Rostock|Female|   20 April 1960|  null|  null|       East Germany|        GDR|Marlies Rostock w...|Wife (divorced) o...|       EAST GERMANY|\n",
      "|     93334|     Craig Hutchison|  Male|     26 May 1975|   198|    97|             Canada|        CAN|                null|Listed in Olympia...|             CANADA|\n",
      "|    146013|      Raquel Queirós|Female|    4 March 2000|   167|    56|           Portugal|        POR|                null|                null|           PORTUGAL|\n",
      "|    109912|Vyacheslav Kurginyan|  Male|22 December 1986|   170|    65| Russian Federation|        RUS|                null|Listed in Olympia...| RUSSIAN FEDERATION|\n",
      "|     37019|        Philippe Lot|  Male|    13 June 1967|   189|    85|             France|        FRA|                null|Listed in Olympia...|             FRANCE|\n",
      "|     22885|        Rudy Kugeler|  Male|  11 August 1928|   187|    86|         Luxembourg|        LUX|                null|                null|         LUXEMBOURG|\n",
      "|     95497|  Yoshihiro Miyazaki|  Male|     10 May 1930|   173|    70|              Japan|        JPN|                null|                null|              JAPAN|\n",
      "|        76|       Roper Barrett|  Male|24 November 1873|  null|  null|      Great Britain|        GBR|Roper Barrett lea...|                null|      GREAT BRITAIN|\n",
      "+----------+--------------------+------+----------------+------+------+-------------------+-----------+--------------------+--------------------+-------------------+\n",
      "only showing top 20 rows\n",
      "\n"
     ]
    }
   ],
   "source": [
    "from pyspark.sql.functions import upper\n",
    "\n",
    "Olympic_Athlete_Bio.withColumn('COUNTRY_UPPER', upper(Olympic_Athlete_Bio.country)).show()"
   ]
  },
  {
   "cell_type": "code",
   "execution_count": 8,
   "metadata": {},
   "outputs": [
    {
     "name": "stdout",
     "output_type": "stream",
     "text": [
      "Male athletes: 115527\n",
      "Female athletes: 40334\n"
     ]
    }
   ],
   "source": [
    "print(f\"Male athletes: {Olympic_Athlete_Bio.filter(Olympic_Athlete_Bio.sex == 'Male').count()}\")\n",
    "print(f\"Female athletes: {Olympic_Athlete_Bio.filter(Olympic_Athlete_Bio.sex == 'Female').count()}\")"
   ]
  },
  {
   "cell_type": "code",
   "execution_count": 104,
   "metadata": {},
   "outputs": [
    {
     "name": "stdout",
     "output_type": "stream",
     "text": [
      "Average athlete\n"
     ]
    },
    {
     "data": {
      "text/html": [
       "<div>\n",
       "<style scoped>\n",
       "    .dataframe tbody tr th:only-of-type {\n",
       "        vertical-align: middle;\n",
       "    }\n",
       "\n",
       "    .dataframe tbody tr th {\n",
       "        vertical-align: top;\n",
       "    }\n",
       "\n",
       "    .dataframe thead th {\n",
       "        text-align: right;\n",
       "    }\n",
       "</style>\n",
       "<table border=\"1\" class=\"dataframe\">\n",
       "  <thead>\n",
       "    <tr style=\"text-align: right;\">\n",
       "      <th></th>\n",
       "      <th>sex</th>\n",
       "      <th>avg_height</th>\n",
       "    </tr>\n",
       "  </thead>\n",
       "  <tbody>\n",
       "    <tr>\n",
       "      <th>0</th>\n",
       "      <td>Female</td>\n",
       "      <td>168.91</td>\n",
       "    </tr>\n",
       "    <tr>\n",
       "      <th>1</th>\n",
       "      <td>Male</td>\n",
       "      <td>179.52</td>\n",
       "    </tr>\n",
       "  </tbody>\n",
       "</table>\n",
       "</div>"
      ],
      "text/plain": [
       "      sex  avg_height\n",
       "0  Female      168.91\n",
       "1    Male      179.52"
      ]
     },
     "execution_count": 104,
     "metadata": {},
     "output_type": "execute_result"
    }
   ],
   "source": [
    "from pyspark.sql.functions import pandas_udf\n",
    "from pyspark.sql.functions import round\n",
    "\n",
    "\n",
    "print(\"Average athlete\")\n",
    "Olympic_Athlete_Bio_avg_height_by_sex = Olympic_Athlete_Bio.groupBy('sex').avg('height')\n",
    "Olympic_Athlete_Bio_avg_height_by_sex.select('sex', round('avg(height)', 2).alias('avg_height')).toPandas()"
   ]
  },
  {
   "cell_type": "code",
   "execution_count": 10,
   "metadata": {},
   "outputs": [
    {
     "name": "stdout",
     "output_type": "stream",
     "text": [
      "Total number of players 200cm tall or higher:\n"
     ]
    },
    {
     "data": {
      "text/plain": [
       "1566"
      ]
     },
     "execution_count": 10,
     "metadata": {},
     "output_type": "execute_result"
    }
   ],
   "source": [
    "print('Total number of players 200cm tall or higher:')\n",
    "Olympic_Athlete_Bio.filter(Olympic_Athlete_Bio.height >= 200).count()"
   ]
  },
  {
   "cell_type": "code",
   "execution_count": 11,
   "metadata": {},
   "outputs": [
    {
     "name": "stdout",
     "output_type": "stream",
     "text": [
      "Player with longest name:\n",
      "24/08/11 10:29:03 WARN WindowExec: No Partition Defined for Window operation! Moving all data to a single partition, this can cause serious performance degradation.\n",
      "24/08/11 10:29:03 WARN WindowExec: No Partition Defined for Window operation! Moving all data to a single partition, this can cause serious performance degradation.\n",
      "24/08/11 10:29:03 WARN WindowExec: No Partition Defined for Window operation! Moving all data to a single partition, this can cause serious performance degradation.\n",
      "24/08/11 10:29:03 WARN WindowExec: No Partition Defined for Window operation! Moving all data to a single partition, this can cause serious performance degradation.\n",
      "24/08/11 10:29:03 WARN WindowExec: No Partition Defined for Window operation! Moving all data to a single partition, this can cause serious performance degradation.\n",
      "+--------------------+-----------+\n",
      "|                name|name_length|\n",
      "+--------------------+-----------+\n",
      "|Georges, Marquis ...|         49|\n",
      "+--------------------+-----------+\n",
      "\n",
      "Player with shortest name:\n",
      "+-------------+\n",
      "|    min(name)|\n",
      "+-------------+\n",
      "| Abdul Rashid|\n",
      "+-------------+\n",
      "\n"
     ]
    }
   ],
   "source": [
    "#TODO\n",
    "\n",
    "from pyspark.sql.functions import min, max, length, row_number\n",
    "\n",
    "# print(f'Player with longest name:')\n",
    "# Olympic_Athlete_Bio.select(max(length('name')).alias('name_length'), Olympic_Athlete_Bio.name).show()\n",
    "\n",
    "from pyspark.sql.window import Window\n",
    "\n",
    "# Calculate name length and rank by length in descending order\n",
    "Olympic_Athlete_Bio = Olympic_Athlete_Bio.withColumn('name_length', length('name'))\n",
    "windowSpec = Window.orderBy(length('name').desc())\n",
    "Olympic_Athlete_Bio = Olympic_Athlete_Bio.withColumn('rank', row_number().over(windowSpec))\n",
    "\n",
    "# Get the longest name\n",
    "longest_name_Olympic_Athlete_Bio = Olympic_Athlete_Bio.filter('rank = 1').select('name', 'name_length')\n",
    "\n",
    "print(f'Player with longest name:')\n",
    "longest_name_Olympic_Athlete_Bio.show()\n",
    "\n",
    "\n",
    "print(f'Player with shortest name:')\n",
    "Olympic_Athlete_Bio.select(min(Olympic_Athlete_Bio.name)).show()"
   ]
  },
  {
   "cell_type": "code",
   "execution_count": 12,
   "metadata": {},
   "outputs": [
    {
     "name": "stdout",
     "output_type": "stream",
     "text": [
      "longest surname\n",
      "+--------------------+--------------------+\n",
      "|                name|             surname|\n",
      "+--------------------+--------------------+\n",
      "|Martina Jašicová-...|Jašicová-Schwarzb...|\n",
      "+--------------------+--------------------+\n",
      "only showing top 1 row\n",
      "\n",
      "shortest surname\n",
      "+-------+-------+\n",
      "|   name|surname|\n",
      "+-------+-------+\n",
      "|Cherry |       |\n",
      "+-------+-------+\n",
      "only showing top 1 row\n",
      "\n"
     ]
    }
   ],
   "source": [
    "from pyspark.sql import functions as F\n",
    "\n",
    "\n",
    "Olympic_Athlete_Bio1 = Olympic_Athlete_Bio.withColumn('surname', F.split('name', ' ').getItem(1)) \\\n",
    "       .withColumn('surname_length', F.length('surname')) \\\n",
    "       .sort(F.desc('surname_length'))\n",
    "\n",
    "Olympic_Athlete_Bio2 = Olympic_Athlete_Bio.withColumn('surname', F.split('name', ' ').getItem(1)) \\\n",
    "       .withColumn('surname_length', F.length('surname')) \\\n",
    "       .sort(F.asc('surname_length'))\n",
    "\n",
    "print('longest surname')\n",
    "Olympic_Athlete_Bio1.select('name', 'surname').show(1)\n",
    "\n",
    "print('shortest surname') #TODO you'll have to clean the data (delete double spaces)\n",
    "Olympic_Athlete_Bio2.select('name', 'surname').show(1)"
   ]
  },
  {
   "cell_type": "code",
   "execution_count": 13,
   "metadata": {},
   "outputs": [
    {
     "name": "stdout",
     "output_type": "stream",
     "text": [
      "heaviest and lightest male/female\n",
      "+------+-----------+\n",
      "|   sex|max(weight)|\n",
      "+------+-----------+\n",
      "|Female|         99|\n",
      "|  Male|     99-101|\n",
      "+------+-----------+\n",
      "\n"
     ]
    }
   ],
   "source": [
    "print('heaviest and lightest male/female')\n",
    "Olympic_Athlete_Bio.groupBy(Olympic_Athlete_Bio.sex).agg({'weight': 'max'}).show()"
   ]
  },
  {
   "cell_type": "code",
   "execution_count": 15,
   "metadata": {},
   "outputs": [
    {
     "name": "stdout",
     "output_type": "stream",
     "text": [
      "Countries with most athletes:\n",
      "+--------------+-----+\n",
      "|       country|count|\n",
      "+--------------+-----+\n",
      "| United States|11691|\n",
      "|        France| 7690|\n",
      "| Great Britain| 6995|\n",
      "+--------------+-----+\n",
      "only showing top 3 rows\n",
      "\n"
     ]
    }
   ],
   "source": [
    "print('Countries with most athletes:')\n",
    "Olympic_Athlete_Bio.groupBy('country').count().sort('count', ascending=False).show(3)"
   ]
  },
  {
   "cell_type": "code",
   "execution_count": 17,
   "metadata": {},
   "outputs": [
    {
     "name": "stdout",
     "output_type": "stream",
     "text": [
      "total number of athletes:\n"
     ]
    },
    {
     "data": {
      "text/plain": [
       "155861"
      ]
     },
     "execution_count": 17,
     "metadata": {},
     "output_type": "execute_result"
    }
   ],
   "source": [
    "print('total number of athletes:')\n",
    "Olympic_Athlete_Bio.count()"
   ]
  },
  {
   "cell_type": "code",
   "execution_count": 18,
   "metadata": {},
   "outputs": [
    {
     "name": "stdout",
     "output_type": "stream",
     "text": [
      "Years when most athletes were born\n",
      "+----+-----+\n",
      "|Year|count|\n",
      "+----+-----+\n",
      "|1972| 2289|\n",
      "|1985| 2284|\n",
      "|1973| 2274|\n",
      "+----+-----+\n",
      "only showing top 3 rows\n",
      "\n"
     ]
    }
   ],
   "source": [
    "print('Years when most athletes were born')\n",
    "df = Olympic_Athlete_Bio.withColumn('Year', F.substring_index('born', ' ', -1))\n",
    "df.filter(df.Year.isNotNull()).groupBy('Year').count().sort('count', ascending=False).show(3)"
   ]
  },
  {
   "cell_type": "markdown",
   "metadata": {},
   "source": [
    "### Olympic Games Medal Tally"
   ]
  },
  {
   "cell_type": "code",
   "execution_count": 19,
   "metadata": {},
   "outputs": [],
   "source": [
    "# Read the CSV file into a DataFrame\n",
    "Olympic_Games_Medal_Tally = spark.read.csv(\"data/Olympic_Games_Medal_Tally.csv\", header=True, inferSchema=True)"
   ]
  },
  {
   "cell_type": "code",
   "execution_count": 20,
   "metadata": {},
   "outputs": [
    {
     "name": "stdout",
     "output_type": "stream",
     "text": [
      "+--------------------+----------+----+-------------+-----------+----+------+------+-----+\n",
      "|             edition|edition_id|year|      country|country_noc|gold|silver|bronze|total|\n",
      "+--------------------+----------+----+-------------+-----------+----+------+------+-----+\n",
      "|1896 Summer Olympics|         1|1896|United States|        USA|  11|     7|     2|   20|\n",
      "|1896 Summer Olympics|         1|1896|       Greece|        GRE|  10|    18|    19|   47|\n",
      "|1896 Summer Olympics|         1|1896|      Germany|        GER|   6|     5|     2|   13|\n",
      "|1896 Summer Olympics|         1|1896|       France|        FRA|   5|     4|     2|   11|\n",
      "|1896 Summer Olympics|         1|1896|Great Britain|        GBR|   2|     3|     2|    7|\n",
      "|1896 Summer Olympics|         1|1896|      Hungary|        HUN|   2|     1|     3|    6|\n",
      "|1896 Summer Olympics|         1|1896|      Austria|        AUT|   2|     1|     2|    5|\n",
      "|1896 Summer Olympics|         1|1896|    Australia|        AUS|   2|     0|     0|    2|\n",
      "|1896 Summer Olympics|         1|1896|      Denmark|        DEN|   1|     2|     3|    6|\n",
      "|1896 Summer Olympics|         1|1896|  Switzerland|        SUI|   1|     2|     0|    3|\n",
      "|1896 Summer Olympics|         1|1896|   Mixed team|        MIX|   1|     0|     1|    2|\n",
      "|1900 Summer Olympics|         2|1900|       France|        FRA|  31|    41|    40|  112|\n",
      "|1900 Summer Olympics|         2|1900|United States|        USA|  20|    13|    15|   48|\n",
      "|1900 Summer Olympics|         2|1900|Great Britain|        GBR|  20|     8|     9|   37|\n",
      "|1900 Summer Olympics|         2|1900|      Belgium|        BEL|   6|     6|     6|   18|\n",
      "|1900 Summer Olympics|         2|1900|  Switzerland|        SUI|   6|     3|     1|   10|\n",
      "|1900 Summer Olympics|         2|1900|      Germany|        GER|   4|     3|     2|    9|\n",
      "|1900 Summer Olympics|         2|1900|        Italy|        ITA|   3|     2|     0|    5|\n",
      "|1900 Summer Olympics|         2|1900|      Denmark|        DEN|   1|     3|     2|    6|\n",
      "|1900 Summer Olympics|         2|1900|   Mixed team|        MIX|   1|     2|     3|    6|\n",
      "+--------------------+----------+----+-------------+-----------+----+------+------+-----+\n",
      "only showing top 20 rows\n",
      "\n"
     ]
    }
   ],
   "source": [
    "Olympic_Games_Medal_Tally.show()"
   ]
  },
  {
   "cell_type": "code",
   "execution_count": 21,
   "metadata": {},
   "outputs": [
    {
     "name": "stdout",
     "output_type": "stream",
     "text": [
      "Top 3 most total medals in a single Olympic Event:\n",
      "+--------------------+-------------+-----+\n",
      "|             edition|      country|total|\n",
      "+--------------------+-------------+-----+\n",
      "|1904 Summer Olympics|United States|  248|\n",
      "|1980 Summer Olympics| Soviet Union|  195|\n",
      "|1984 Summer Olympics|United States|  174|\n",
      "+--------------------+-------------+-----+\n",
      "only showing top 3 rows\n",
      "\n"
     ]
    }
   ],
   "source": [
    "print('Top 3 most total medals in a single Olympic Event:')\n",
    "Olympic_Games_Medal_Tally.select('edition', 'country', 'total') \\\n",
    "    .sort('total', ascending=False) \\\n",
    "    .show(3)\n"
   ]
  },
  {
   "cell_type": "code",
   "execution_count": 22,
   "metadata": {},
   "outputs": [
    {
     "name": "stdout",
     "output_type": "stream",
     "text": [
      "root\n",
      " |-- edition: string (nullable = true)\n",
      " |-- edition_id: integer (nullable = true)\n",
      " |-- year: integer (nullable = true)\n",
      " |-- country: string (nullable = true)\n",
      " |-- country_noc: string (nullable = true)\n",
      " |-- gold: integer (nullable = true)\n",
      " |-- silver: integer (nullable = true)\n",
      " |-- bronze: integer (nullable = true)\n",
      " |-- total: integer (nullable = true)\n",
      "\n"
     ]
    }
   ],
   "source": [
    "Olympic_Games_Medal_Tally.printSchema()"
   ]
  },
  {
   "cell_type": "code",
   "execution_count": 108,
   "metadata": {},
   "outputs": [
    {
     "name": "stdout",
     "output_type": "stream",
     "text": [
      "Top 3 ranking by own score:\n",
      "+--------------------+-------------+----+------+------+\n",
      "|             edition|      country|gold|silver|bronze|\n",
      "+--------------------+-------------+----+------+------+\n",
      "|1904 Summer Olympics|United States|  80|    85|    83|\n",
      "|1980 Summer Olympics| Soviet Union|  80|    69|    46|\n",
      "|1984 Summer Olympics|United States|  83|    61|    30|\n",
      "+--------------------+-------------+----+------+------+\n",
      "only showing top 3 rows\n",
      "\n"
     ]
    }
   ],
   "source": [
    "print('Top 3 ranking by own score:')\n",
    "Olympic_Games_Medal_Tally \\\n",
    "    .withColumn('own score', (Olympic_Games_Medal_Tally.gold*3+Olympic_Games_Medal_Tally.silver*2+Olympic_Games_Medal_Tally.bronze*1)) \\\n",
    "    .select('edition', 'country', 'own score', 'gold', 'silver', 'bronze') \\\n",
    "    .sort('own score', ascending=False) \\\n",
    "    .show(3)"
   ]
  },
  {
   "cell_type": "markdown",
   "metadata": {},
   "source": [
    "### Events"
   ]
  },
  {
   "cell_type": "code",
   "execution_count": 24,
   "metadata": {},
   "outputs": [],
   "source": [
    "# Read the CSV file into a DataFrame\n",
    "events = spark.read.csv(\"data/Olympic_Athlete_Event_Results.csv\", header=True, inferSchema=True)"
   ]
  },
  {
   "cell_type": "code",
   "execution_count": 25,
   "metadata": {},
   "outputs": [
    {
     "name": "stdout",
     "output_type": "stream",
     "text": [
      "+--------------------+----------+-----------+---------+--------------------+---------+---------------+----------+----------+-----+-----------+\n",
      "|             edition|edition_id|country_noc|    sport|               event|result_id|        athlete|athlete_id|       pos|medal|isTeamSport|\n",
      "+--------------------+----------+-----------+---------+--------------------+---------+---------------+----------+----------+-----+-----------+\n",
      "|1908 Summer Olympics|         5|        ANZ|Athletics|     100 metres, Men|    56265|Ernest Hutcheon|     64710|       DNS| null|      false|\n",
      "|1908 Summer Olympics|         5|        ANZ|Athletics|     400 metres, Men|    56313|   Henry Murray|     64756|       DNS| null|      false|\n",
      "|1908 Summer Olympics|         5|        ANZ|Athletics|     800 metres, Men|    56338|  Harvey Sutton|     64808| 3 h8 r1/2| null|      false|\n",
      "|1908 Summer Olympics|         5|        ANZ|Athletics|     800 metres, Men|    56338|    Guy Haskins|    922519|       DNS| null|      false|\n",
      "|1908 Summer Olympics|         5|        ANZ|Athletics|     800 metres, Men|    56338|   Joseph Lynch|     64735|       DNS| null|      false|\n",
      "|1908 Summer Olympics|         5|        ANZ|Athletics|     800 metres, Men|    56338|   Henry Murray|     64756|       DNS| null|      false|\n",
      "|1908 Summer Olympics|         5|        ANZ|Athletics|   1,500 metres, Men|    56349|   Joseph Lynch|     64735| 5 h2 r1/2| null|      false|\n",
      "|1908 Summer Olympics|         5|        ANZ|Athletics|   1,500 metres, Men|    56349|  Charles Swain|     79576|AC h3 r1/2| null|      false|\n",
      "|1908 Summer Olympics|         5|        ANZ|Athletics|   1,500 metres, Men|    56349|    Guy Haskins|    922519|       DNS| null|      false|\n",
      "|1908 Summer Olympics|         5|        ANZ|Athletics|   1,500 metres, Men|    56349|   George Blake|     64619|       DNS| null|      false|\n",
      "|1908 Summer Olympics|         5|        ANZ|Athletics|        5 miles, Men|    56360|   George Blake|     64619| 3 h1 r1/2| null|      false|\n",
      "|1908 Summer Olympics|         5|        ANZ|Athletics|        5 miles, Men|    56360|   Joseph Lynch|     64735|AC h5 r1/2| null|      false|\n",
      "|1908 Summer Olympics|         5|        ANZ|Athletics|        5 miles, Men|    56360|    Guy Haskins|    922519|       DNS| null|      false|\n",
      "|1908 Summer Olympics|         5|        ANZ|Athletics|        5 miles, Men|    56360|  Victor Aitken|     64594|       DNS| null|      false|\n",
      "|1908 Summer Olympics|         5|        ANZ|Athletics|       Marathon, Men|    56369|  Victor Aitken|     64594|       DNF| null|      false|\n",
      "|1908 Summer Olympics|         5|        ANZ|Athletics|       Marathon, Men|    56369|   George Blake|     64619|       DNF| null|      false|\n",
      "|1908 Summer Olympics|         5|        ANZ|Athletics|       Marathon, Men|    56369|   Joseph Lynch|     64735|       DNF| null|      false|\n",
      "|1908 Summer Olympics|         5|        ANZ|Athletics|110 metres Hurdle...|    56370|   Henry Murray|     64756| 2 h1 r1/3| null|      false|\n",
      "|1908 Summer Olympics|         5|        ANZ|Athletics|400 metres Hurdle...|    56392|   Henry Murray|     64756| 2 h3 r1/3| null|      false|\n",
      "|1908 Summer Olympics|         5|        ANZ|Athletics|3,200 metres Stee...|    56412|    Guy Haskins|    922519|       DNS| null|      false|\n",
      "+--------------------+----------+-----------+---------+--------------------+---------+---------------+----------+----------+-----+-----------+\n",
      "only showing top 20 rows\n",
      "\n"
     ]
    }
   ],
   "source": [
    "events.show()"
   ]
  },
  {
   "cell_type": "code",
   "execution_count": 26,
   "metadata": {},
   "outputs": [
    {
     "name": "stdout",
     "output_type": "stream",
     "text": [
      "Number of unique olympic sports in all of history:\n"
     ]
    },
    {
     "data": {
      "text/plain": [
       "742"
      ]
     },
     "execution_count": 26,
     "metadata": {},
     "output_type": "execute_result"
    }
   ],
   "source": [
    "import pyspark.sql.functions as F\n",
    "\n",
    "df = events.select('event').distinct()\n",
    "df = df.withColumn('output', F.regexp_replace('event', r', (Men|Women|Open|Team|Mixed)', ''))\n",
    "\n",
    "print('Number of unique olympic sports in all of history:')\n",
    "df.select('output').distinct().count()\n",
    "# print('*if you split running into 100m, 200m, 4x100m, etc. ')\n"
   ]
  },
  {
   "cell_type": "code",
   "execution_count": 27,
   "metadata": {},
   "outputs": [
    {
     "name": "stdout",
     "output_type": "stream",
     "text": [
      "+--------------------+----------+-----------+----------+---------------+---------+--------------------+----------+---+-----+-----------+\n",
      "|             edition|edition_id|country_noc|     sport|          event|result_id|             athlete|athlete_id|pos|medal|isTeamSport|\n",
      "+--------------------+----------+-----------+----------+---------------+---------+--------------------+----------+---+-----+-----------+\n",
      "|1992 Summer Olympics|        23|        ANG|Basketball|Basketball, Men|    32728|Benjamim João Romano|      6990| 10| null|       true|\n",
      "|1992 Summer Olympics|        23|        ANG|Basketball|Basketball, Men|    32728|   Herlander Coimbra|      5899| 10| null|       true|\n",
      "|1992 Summer Olympics|        23|        ANG|Basketball|Basketball, Men|    32728|Jean-Jacques da C...|      5907| 10| null|       true|\n",
      "|1992 Summer Olympics|        23|        ANG|Basketball|Basketball, Men|    32728|  Victor de Carvalho|      5965| 10| null|       true|\n",
      "|1992 Summer Olympics|        23|        ANG|Basketball|Basketball, Men|    32728|          David Dias|      6004| 10| null|       true|\n",
      "|1992 Summer Olympics|        23|        ANG|Basketball|Basketball, Men|    32728|José Carlos Guima...|      6228| 10| null|       true|\n",
      "|1992 Summer Olympics|        23|        ANG|Basketball|Basketball, Men|    32728|        Paulo Macedo|      6567| 10| null|       true|\n",
      "|1992 Summer Olympics|        23|        ANG|Basketball|Basketball, Men|    32728|      Aníbal Moreira|      6699| 10| null|       true|\n",
      "|1992 Summer Olympics|        23|        ANG|Basketball|Basketball, Men|    32728|     Nelson Sardinha|      7059| 10| null|       true|\n",
      "|1992 Summer Olympics|        23|        ANG|Basketball|Basketball, Men|    32728|        Manuel Sousa|      7163| 10| null|       true|\n",
      "|1992 Summer Olympics|        23|        ANG|Basketball|Basketball, Men|    32728|   Ângelo Victoriano|      7302| 10| null|       true|\n",
      "|1992 Summer Olympics|        23|        ANG|Basketball|Basketball, Men|    32728|  Benjamim Ucuahamba|      7260| 10| null|       true|\n",
      "|1996 Summer Olympics|        24|        ANG|Basketball|Basketball, Men|    32810|    Edmar Victoriano|      7301| 11| null|       true|\n",
      "|1996 Summer Olympics|        24|        ANG|Basketball|Basketball, Men|    32810|      Aníbal Moreira|      6699| 11| null|       true|\n",
      "|1996 Summer Olympics|        24|        ANG|Basketball|Basketball, Men|    32810|   Ângelo Victoriano|      7302| 11| null|       true|\n",
      "|1996 Summer Olympics|        24|        ANG|Basketball|Basketball, Men|    32810|  Benjamim Ucuahamba|      7260| 11| null|       true|\n",
      "|1996 Summer Olympics|        24|        ANG|Basketball|Basketball, Men|    32810|     Honorato Trosso|      7252| 11| null|       true|\n",
      "|1996 Summer Olympics|        24|        ANG|Basketball|Basketball, Men|    32810|  Victor de Carvalho|      5965| 11| null|       true|\n",
      "|1996 Summer Olympics|        24|        ANG|Basketball|Basketball, Men|    32810|   Herlander Coimbra|      5899| 11| null|       true|\n",
      "|1996 Summer Olympics|        24|        ANG|Basketball|Basketball, Men|    32810|  Justino Victoriano|      7300| 11| null|       true|\n",
      "+--------------------+----------+-----------+----------+---------------+---------+--------------------+----------+---+-----+-----------+\n",
      "only showing top 20 rows\n",
      "\n"
     ]
    }
   ],
   "source": [
    "events.filter(events.event.contains('Basketball, Men')).show()"
   ]
  },
  {
   "cell_type": "code",
   "execution_count": 28,
   "metadata": {},
   "outputs": [
    {
     "name": "stdout",
     "output_type": "stream",
     "text": [
      "+--------------------+----------+-----------+---------+--------------------+---------+-----------------+----------+---+------+-----------+\n",
      "|             edition|edition_id|country_noc|    sport|               event|result_id|          athlete|athlete_id|pos| medal|isTeamSport|\n",
      "+--------------------+----------+-----------+---------+--------------------+---------+-----------------+----------+---+------+-----------+\n",
      "|1908 Summer Olympics|         5|        ANZ|Athletics|3,500 metres Race...|    56421|       Harry Kerr|     64719|  3|Bronze|      false|\n",
      "|1908 Summer Olympics|         5|        ANZ|   Boxing|   Middleweight, Men|    21263|      Snowy Baker|     45153|  2|Silver|      false|\n",
      "|1908 Summer Olympics|         5|        ANZ|    Rugby|          Rugby, Men|    31505|     John Barnett|     11237|  1|  Gold|       true|\n",
      "|1908 Summer Olympics|         5|        ANZ|    Rugby|          Rugby, Men|    31505|  Phil Carmichael|     11239|  1|  Gold|       true|\n",
      "|1908 Summer Olympics|         5|        ANZ|    Rugby|          Rugby, Men|    31505|      Dan Carroll|     11240|  1|  Gold|       true|\n",
      "|1908 Summer Olympics|         5|        ANZ|    Rugby|          Rugby, Men|    31505|        Bob Craig|     11241|  1|  Gold|       true|\n",
      "|1908 Summer Olympics|         5|        ANZ|    Rugby|          Rugby, Men|    31505|      Tom Griffin|     11242|  1|  Gold|       true|\n",
      "|1908 Summer Olympics|         5|        ANZ|    Rugby|          Rugby, Men|    31505|      Jack Hickey|     11243|  1|  Gold|       true|\n",
      "|1908 Summer Olympics|         5|        ANZ|    Rugby|          Rugby, Men|    31505|  Mannie McArthur|     11244|  1|  Gold|       true|\n",
      "|1908 Summer Olympics|         5|        ANZ|    Rugby|          Rugby, Men|    31505|    Arthur McCabe|     11245|  1|  Gold|       true|\n",
      "|1908 Summer Olympics|         5|        ANZ|    Rugby|          Rugby, Men|    31505|      Paddy McCue|     11246|  1|  Gold|       true|\n",
      "|1908 Summer Olympics|         5|        ANZ|    Rugby|          Rugby, Men|    31505|    Chris McKivat|     11247|  1|  Gold|       true|\n",
      "|1908 Summer Olympics|         5|        ANZ|    Rugby|          Rugby, Men|    31505|Charles McMurtrie|     11248|  1|  Gold|       true|\n",
      "|1908 Summer Olympics|         5|        ANZ|    Rugby|          Rugby, Men|    31505|    Syd Middleton|     11249|  1|  Gold|       true|\n",
      "|1908 Summer Olympics|         5|        ANZ|    Rugby|          Rugby, Men|    31505|     Tom Richards|     11250|  1|  Gold|       true|\n",
      "|1908 Summer Olympics|         5|        ANZ|    Rugby|          Rugby, Men|    31505|  Charles Russell|     11251|  1|  Gold|       true|\n",
      "|1908 Summer Olympics|         5|        ANZ|    Rugby|          Rugby, Men|    31505|      Frank Smith|     11238|  1|  Gold|       true|\n",
      "|1908 Summer Olympics|         5|        ANZ|    Rugby|          Rugby, Men|    31505|         Bill Dix|   1202174|  1|  Gold|       true|\n",
      "|1908 Summer Olympics|         5|        ANZ|    Rugby|          Rugby, Men|    31505|     Herbert Daly|   1202175|  1|  Gold|       true|\n",
      "|1908 Summer Olympics|         5|        ANZ|    Rugby|          Rugby, Men|    31505|   Eddie Mandible|   1202176|  1|  Gold|       true|\n",
      "+--------------------+----------+-----------+---------+--------------------+---------+-----------------+----------+---+------+-----------+\n",
      "only showing top 20 rows\n",
      "\n"
     ]
    }
   ],
   "source": [
    "df = events.filter(events.medal.isNotNull())\n",
    "\n",
    "df.show()"
   ]
  },
  {
   "cell_type": "code",
   "execution_count": 93,
   "metadata": {},
   "outputs": [
    {
     "name": "stdout",
     "output_type": "stream",
     "text": [
      "+--------------------+----------+-----------+---------+--------------------+---------+-------------------+----------+----------+------+-----------+\n",
      "|             edition|edition_id|country_noc|    sport|               event|result_id|            athlete|athlete_id|       pos| medal|isTeamSport|\n",
      "+--------------------+----------+-----------+---------+--------------------+---------+-------------------+----------+----------+------+-----------+\n",
      "|1908 Summer Olympics|         5|        ANZ|Athletics|3,500 metres Race...|    56421|         Harry Kerr|     64719|         3|Bronze|      false|\n",
      "|1908 Summer Olympics|         5|        ANZ|Athletics|3,500 metres Race...|    56421|     Albert Rowland|     64788|         5|  null|      false|\n",
      "|1908 Summer Olympics|         5|        DEN|Athletics|3,500 metres Race...|    56421|Charles Vestergaard|     67007|         6|  null|      false|\n",
      "|1908 Summer Olympics|         5|        DEN|Athletics|3,500 metres Race...|    56421|         Arne Højme|     66927| 6 h1 r1/2|  null|      false|\n",
      "|1908 Summer Olympics|         5|        CAN|Athletics|3,500 metres Race...|    56421|    George Goulding|     66071|         4|  null|      false|\n",
      "|1908 Summer Olympics|         5|        HUN|Athletics|3,500 metres Race...|    56421|     István Drubina|     71134| 5 h2 r1/2|  null|      false|\n",
      "|1908 Summer Olympics|         5|        GER|Athletics|3,500 metres Race...|    56421|         Paul Gunia|     70259| 4 h1 r1/2|  null|      false|\n",
      "|1908 Summer Olympics|         5|        GER|Athletics|3,500 metres Race...|    56421|    Richard Wilhelm|     70595| 6 h3 r1/2|  null|      false|\n",
      "|1908 Summer Olympics|         5|        NED|Athletics|3,500 metres Race...|    56421|   Willem Winkelman|     73917| 4 h2 r1/2|  null|      false|\n",
      "|1908 Summer Olympics|         5|        NED|Athletics|3,500 metres Race...|    56421|       Piet Ruimers|     73868| 6 h2 r1/2|  null|      false|\n",
      "|1908 Summer Olympics|         5|        NED|Athletics|3,500 metres Race...|    56421|         Jo Goetzee|     73814| 7 h1 r1/2|  null|      false|\n",
      "|1908 Summer Olympics|         5|        NED|Athletics|3,500 metres Race...|    56421|        Jan Huijgen|     73829| 7 h3 r1/2|  null|      false|\n",
      "|1908 Summer Olympics|         5|        NED|Athletics|3,500 metres Race...|    56421|        Piet Soudyn|     73875|AC h1 r1/2|  null|      false|\n",
      "|1908 Summer Olympics|         5|        GBR|Athletics|3,500 metres Race...|    56421|      George Larner|     69234|         1|  Gold|      false|\n",
      "|1908 Summer Olympics|         5|        GBR|Athletics|3,500 metres Race...|    56421|         Ernie Webb|     69569|         2|Silver|      false|\n",
      "|1908 Summer Olympics|         5|        GBR|Athletics|3,500 metres Race...|    56421|        Bill Palmer|     69370|        AC|  null|      false|\n",
      "|1908 Summer Olympics|         5|        GBR|Athletics|3,500 metres Race...|    56421|     Ralph Harrison|     69121|        AC|  null|      false|\n",
      "|1908 Summer Olympics|         5|        GBR|Athletics|3,500 metres Race...|    56421|      Ernest Larner|     69233| 4 h3 r1/2|  null|      false|\n",
      "|1908 Summer Olympics|         5|        GBR|Athletics|3,500 metres Race...|    56421|       Sydney Sarel|     69463| 5 h1 r1/2|  null|      false|\n",
      "|1908 Summer Olympics|         5|        GBR|Athletics|3,500 metres Race...|    56421|        Jack Butler|     68935| 5 h3 r1/2|  null|      false|\n",
      "+--------------------+----------+-----------+---------+--------------------+---------+-------------------+----------+----------+------+-----------+\n",
      "only showing top 20 rows\n",
      "\n"
     ]
    }
   ],
   "source": [
    "events.filter(events.result_id == 56421).show()"
   ]
  },
  {
   "cell_type": "code",
   "execution_count": 92,
   "metadata": {},
   "outputs": [
    {
     "name": "stdout",
     "output_type": "stream",
     "text": [
      "There were a total of 44687 events\n"
     ]
    }
   ],
   "source": [
    "print(f'There were a total of {events.filter(events.medal.isNotNull()).count()} events')\n",
    "print(f'{} events were competing for a medal')\n",
    "# events.filter(events.medal.isNull()).count()"
   ]
  },
  {
   "cell_type": "code",
   "execution_count": 39,
   "metadata": {},
   "outputs": [
    {
     "name": "stdout",
     "output_type": "stream",
     "text": [
      "Most Gold medals by athlete:\n",
      "+---------------+------------+\n",
      "|        athlete|count(medal)|\n",
      "+---------------+------------+\n",
      "| Michael Phelps|          23|\n",
      "|     Carl Lewis|           9|\n",
      "|Larisa Latynina|           9|\n",
      "+---------------+------------+\n",
      "only showing top 3 rows\n",
      "\n"
     ]
    }
   ],
   "source": [
    "print('Most Gold medals by athlete:')\n",
    "df.filter(df.medal == 'Gold').groupBy('athlete').agg({'medal': 'count'}).orderBy('count(medal)', ascending=False).show(3)"
   ]
  },
  {
   "cell_type": "code",
   "execution_count": 62,
   "metadata": {},
   "outputs": [
    {
     "name": "stdout",
     "output_type": "stream",
     "text": [
      "Most medals (Gold, Silver, Bronze) by athlete:\n",
      "+---------------+-----------+----+------+------+\n",
      "|        athlete|medal_count|gold|silver|bronze|\n",
      "+---------------+-----------+----+------+------+\n",
      "| Michael Phelps|         28|  23|     3|     2|\n",
      "|Larisa Latynina|         18|   9|     5|     4|\n",
      "|  Marit Bjørgen|         15|   8|     4|     3|\n",
      "+---------------+-----------+----+------+------+\n",
      "only showing top 3 rows\n",
      "\n"
     ]
    }
   ],
   "source": [
    "print('Most medals (Gold, Silver, Bronze) by athlete:')\n",
    "\n",
    "df = df.withColumns({\\\n",
    "    \"gold\": (F.col(\"medal\") == \"Gold\").cast('integer'), \\\n",
    "    \"silver\": (F.col(\"medal\") == \"Silver\").cast('integer'), \\\n",
    "    \"bronze\": (F.col(\"medal\") == \"Bronze\").cast('integer')\n",
    "    })\n",
    "\n",
    "df \\\n",
    "    .groupBy('athlete') \\\n",
    "    .agg(\n",
    "        F.count('medal').alias('medal_count'),\n",
    "        F.sum('gold').alias('gold'),\n",
    "        F.sum('silver').alias('silver'),\n",
    "        F.sum('bronze').alias('bronze')\n",
    "    ) \\\n",
    "    .orderBy('medal_count', ascending=False) \\\n",
    "    .show(3)"
   ]
  },
  {
   "cell_type": "markdown",
   "metadata": {},
   "source": [
    "### Results"
   ]
  },
  {
   "cell_type": "code",
   "execution_count": 29,
   "metadata": {},
   "outputs": [],
   "source": [
    "results = spark.read.csv(\"data/Olympic_Results.csv\", header=True, inferSchema=True)"
   ]
  },
  {
   "cell_type": "code",
   "execution_count": 30,
   "metadata": {},
   "outputs": [
    {
     "name": "stdout",
     "output_type": "stream",
     "text": [
      "+---------+-----------------+--------------------+----------+----------+--------------------+--------------------+--------------------+--------------------+--------------------+-------------+--------------------+\n",
      "|result_id|      event_title|             edition|edition_id|     sport|           sport_url|         result_date|     result_location| result_participants|       result_format|result_detail|  result_description|\n",
      "+---------+-----------------+--------------------+----------+----------+--------------------+--------------------+--------------------+--------------------+--------------------+-------------+--------------------+\n",
      "|   303046|Basketball, Women|2012 Summer Olympics|        54|Basketball|/editions/54/spor...|28 July – 11 Augu...|Basketball Arena,...|143 from 12 count...|Round-robin pools...|           na|The United States...|\n",
      "|   900000|  Basketball, Men|1904 Summer Olympics|         3|Basketball|/editions/3/sport...|   11 – 12 July 1904|Francis Field, Wa...| 40 from 1 countries|                  na|           na|The Olympic baske...|\n",
      "|   257949|Basketball, Women|2008 Summer Olympics|        53|Basketball|/editions/53/spor...|  9 – 23 August 2008|Beijing Aolinpike...|143 from 12 count...|Round-robin pools...|           na|Unlike the United...|\n",
      "|   303000|  Basketball, Men|2012 Summer Olympics|        54|Basketball|/editions/54/spor...|29 July – 12 Augu...|North Greenwich A...|144 from 12 count...|Round-robin pools...|           na|The United States...|\n",
      "|   257904|  Basketball, Men|2008 Summer Olympics|        53|Basketball|/editions/53/spor...| 10 – 24 August 2008|Beijing Aolinpike...|144 from 12 count...|Round-robin pools...|           na|The United States...|\n",
      "|   359400|  Basketball, Men|2016 Summer Olympics|        59|Basketball|/editions/59/spor...|  6 – 21 August 2016|Arena Carioca 1, ...|141 from 12 count...|Round-robin pools...|           na|The heavy favorit...|\n",
      "|    32497|  Basketball, Men|1980 Summer Olympics|        20|Basketball|/editions/20/spor...|   20 – 30 July 1980|Dvorets sporta, U...|143 from 12 count...|Round-robin pools...|           na|With the Olympics...|\n",
      "|    33067|Basketball, Women|2004 Summer Olympics|        26|Basketball|/editions/26/spor...| 14 – 28 August 2004|Kleisto Gipedo, O...|143 from 12 count...|Round-robin pools...|           na|The United States...|\n",
      "|    32701|Basketball, Women|1988 Summer Olympics|        22|Basketball|/editions/22/spor...|19 – 29 September...|Jam-sil Che-yuk-g...| 93 from 8 countries|Round-robin pools...|           na|The Soviet Union ...|\n",
      "| 19001285|Basketball, Women|2020 Summer Olympics|        61|Basketball|/editions/61/spor...|26 July –  8 Augu...|Saitama Super Are...|142 from 12 count...|Round-robin pools...|           na|All the games too...|\n",
      "|    32115|  Basketball, Men|1960 Summer Olympics|        15|Basketball|/editions/15/spor...|26 August – 10 Se...|Palazzetto dello ...|192 from 16 count...|Several series of...|           na|In 1959, the Unit...|\n",
      "|    32430|  Basketball, Men|1976 Summer Olympics|        19|Basketball|/editions/19/spor...|   18 – 27 July 1976|Centre Étienne De...|141 from 12 count...|Round-robin pools...|           na|The United States...|\n",
      "|    33018|  Basketball, Men|2004 Summer Olympics|        26|Basketball|/editions/26/spor...| 15 – 28 August 2004|Kleisto Gipedo, O...|144 from 12 count...|Round-robin pools...|           na|The United States...|\n",
      "|    32187|  Basketball, Men|1964 Summer Olympics|        16|Basketball|/editions/16/spor...|11 – 23 October 1964|Kokuritsu Yoyogi ...|189 from 16 count...|Round-robin pools...|           na|By 1964 the Sovie...|\n",
      "|    32920|  Basketball, Men|2000 Summer Olympics|        25|Basketball|/editions/25/spor...|17 September –  1...|Sydney SuperDome,...|144 from 12 count...|Round-robin pools...|           na|In 1998, Yugoslav...|\n",
      "|    32349|  Basketball, Men|1972 Summer Olympics|        18|Basketball|/editions/18/spor...|27 August –  9 Se...|Basketballhalle, ...|190 from 16 count...|Round-robin pools...|           na|The United States...|\n",
      "|   359446|Basketball, Women|2016 Summer Olympics|        59|Basketball|/editions/59/spor...|  6 – 20 August 2016|Arena Carioca 1, ...|140 from 12 count...|Round-robin pools...|           na|The USA men were ...|\n",
      "|    32625|Basketball, Women|1984 Summer Olympics|        21|Basketball|/editions/21/spor...|30 July –  7 Augu...|The Forum, Inglew...| 71 from 6 countries|Round-robin pools...|           na|In 1983, the Sovi...|\n",
      "|    31969|  Basketball, Men|1952 Summer Olympics|        13|Basketball|/editions/13/spor...|14 July –  2 Augu...|Messuhalli II, He...|294 from 23 count...|Round-robin pools...|           na|In 1950, FIBA int...|\n",
      "|    31863|  Basketball, Men|1948 Summer Olympics|        12|Basketball|/editions/12/spor...|30 July – 13 Augu...|Harringay Arena, ...|287 from 23 count...|Round-robin pools...|           na|There were still ...|\n",
      "+---------+-----------------+--------------------+----------+----------+--------------------+--------------------+--------------------+--------------------+--------------------+-------------+--------------------+\n",
      "only showing top 20 rows\n",
      "\n"
     ]
    }
   ],
   "source": [
    "results.filter(results.sport == 'Basketball').show()"
   ]
  },
  {
   "cell_type": "markdown",
   "metadata": {},
   "source": [
    "### Hosts"
   ]
  },
  {
   "cell_type": "code",
   "execution_count": 101,
   "metadata": {},
   "outputs": [],
   "source": [
    "hosts = spark.read.csv(\"data/Olympics_Games.csv\", header=True, inferSchema=True)\n",
    "countries = spark.read.csv(\"data/Olympics_Country.csv\", header=True, inferSchema=True)\n",
    "\n",
    "hosts = hosts.join(countries, hosts.country_noc == countries.noc, how='inner')\n"
   ]
  },
  {
   "cell_type": "code",
   "execution_count": 83,
   "metadata": {},
   "outputs": [
    {
     "name": "stdout",
     "output_type": "stream",
     "text": [
      "+--------------------+----------+------------+----+----------------+--------------------+-----------+-----------+------------+--------------------+-------------------+---+-------------+\n",
      "|             edition|edition_id| edition_url|year|            city|    country_flag_url|country_noc| start_date|    end_date|    competition_date|             isHeld|noc|      country|\n",
      "+--------------------+----------+------------+----+----------------+--------------------+-----------+-----------+------------+--------------------+-------------------+---+-------------+\n",
      "|1896 Summer Olympics|         1| /editions/1|1896|          Athina|https://olympedia...|        GRE|    6 April|    15 April|        6 – 13 April|               null|GRE|       Greece|\n",
      "|1900 Summer Olympics|         2| /editions/2|1900|           Paris|https://olympedia...|        FRA|       null|        null| 14 May – 28 October|               null|FRA|       France|\n",
      "|1904 Summer Olympics|         3| /editions/3|1904|       St. Louis|https://olympedia...|        USA|     14 May|        null| 1 July – 26 Nove...|               null|USA|United States|\n",
      "|1908 Summer Olympics|         5| /editions/5|1908|          London|https://olympedia...|        GBR|    13 July|     25 July|27 April – 31 Oct...|               null|GBR|Great Britain|\n",
      "|1912 Summer Olympics|         6| /editions/6|1912|       Stockholm|https://olympedia...|        SWE|     6 July|     15 July|     5 May – 27 July|               null|SWE|       Sweden|\n",
      "|1916 Summer Olympics|        50|/editions/50|1916|          Berlin|https://olympedia...|        GER|       null|        null|                   —|Not held due to war|GER|      Germany|\n",
      "|1920 Summer Olympics|         7| /editions/7|1920|       Antwerpen|https://olympedia...|        BEL|  14 August|   30 August|23 April – 12 Sep...|               null|BEL|      Belgium|\n",
      "|1924 Summer Olympics|         8| /editions/8|1924|           Paris|https://olympedia...|        FRA|     5 July|     27 July|     4 May – 27 July|               null|FRA|       France|\n",
      "|1928 Summer Olympics|         9| /editions/9|1928|       Amsterdam|https://olympedia...|        NED|    28 July|   12 August|  17 May – 12 August|               null|NED|  Netherlands|\n",
      "|1932 Summer Olympics|        10|/editions/10|1932|     Los Angeles|https://olympedia...|        USA|    30 July|   14 August| 30 July – 14 August|               null|USA|United States|\n",
      "|1936 Summer Olympics|        11|/editions/11|1936|          Berlin|https://olympedia...|        GER|   1 August|   16 August|       1 – 16 August|               null|GER|      Germany|\n",
      "|1940 Summer Olympics|        51|/editions/51|1940|        Helsinki|https://olympedia...|        FIN|       null|        null|                   —|Not held due to war|FIN|      Finland|\n",
      "|1944 Summer Olympics|        52|/editions/52|1944|          London|https://olympedia...|        GBR|       null|        null|                   —|Not held due to war|GBR|Great Britain|\n",
      "|1948 Summer Olympics|        12|/editions/12|1948|          London|https://olympedia...|        GBR|    29 July|   14 August| 26 July – 14 August|               null|GBR|Great Britain|\n",
      "|1952 Summer Olympics|        13|/editions/13|1952|        Helsinki|https://olympedia...|        FIN|    19 July|    3 August| 14 July –  3 August|               null|FIN|      Finland|\n",
      "|1956 Summer Olympics|        14|/editions/14|1956|       Melbourne|https://olympedia...|        AUS|22 November|  8 December|22 November –  8 ...|               null|AUS|    Australia|\n",
      "|1960 Summer Olympics|        15|/editions/15|1960|            Roma|https://olympedia...|        ITA|  25 August|11 September|25 August – 11 Se...|               null|ITA|        Italy|\n",
      "|1964 Summer Olympics|        16|/editions/16|1964|           Tokyo|https://olympedia...|        JPN| 10 October|  24 October|     11 – 24 October|               null|JPN|        Japan|\n",
      "|1968 Summer Olympics|        17|/editions/17|1968|Ciudad de México|https://olympedia...|        MEX| 12 October|  27 October|     12 – 27 October|               null|MEX|       Mexico|\n",
      "|1972 Summer Olympics|        18|/editions/18|1972|         München|https://olympedia...|        FRG|  26 August|11 September|26 August – 11 Se...|               null|FRG| West Germany|\n",
      "+--------------------+----------+------------+----+----------------+--------------------+-----------+-----------+------------+--------------------+-------------------+---+-------------+\n",
      "only showing top 20 rows\n",
      "\n"
     ]
    }
   ],
   "source": [
    "hosts.show()"
   ]
  },
  {
   "cell_type": "code",
   "execution_count": 103,
   "metadata": {},
   "outputs": [
    {
     "name": "stdout",
     "output_type": "stream",
     "text": [
      "Cities hosting the Olympics:\n"
     ]
    },
    {
     "data": {
      "text/html": [
       "<div>\n",
       "<style scoped>\n",
       "    .dataframe tbody tr th:only-of-type {\n",
       "        vertical-align: middle;\n",
       "    }\n",
       "\n",
       "    .dataframe tbody tr th {\n",
       "        vertical-align: top;\n",
       "    }\n",
       "\n",
       "    .dataframe thead th {\n",
       "        text-align: right;\n",
       "    }\n",
       "</style>\n",
       "<table border=\"1\" class=\"dataframe\">\n",
       "  <thead>\n",
       "    <tr style=\"text-align: right;\">\n",
       "      <th></th>\n",
       "      <th>city</th>\n",
       "      <th>country</th>\n",
       "      <th>number of times hosted</th>\n",
       "      <th>years when hosted</th>\n",
       "    </tr>\n",
       "  </thead>\n",
       "  <tbody>\n",
       "    <tr>\n",
       "      <th>0</th>\n",
       "      <td>London</td>\n",
       "      <td>Great Britain</td>\n",
       "      <td>4</td>\n",
       "      <td>[1944, 1908, 1948, 2012]</td>\n",
       "    </tr>\n",
       "    <tr>\n",
       "      <th>1</th>\n",
       "      <td>Athina</td>\n",
       "      <td>Greece</td>\n",
       "      <td>3</td>\n",
       "      <td>[2004, 1896, 1906]</td>\n",
       "    </tr>\n",
       "    <tr>\n",
       "      <th>2</th>\n",
       "      <td>Paris</td>\n",
       "      <td>France</td>\n",
       "      <td>3</td>\n",
       "      <td>[1900, 2024, 1924]</td>\n",
       "    </tr>\n",
       "    <tr>\n",
       "      <th>3</th>\n",
       "      <td>Los Angeles</td>\n",
       "      <td>United States</td>\n",
       "      <td>3</td>\n",
       "      <td>[1932, 1984, 2028]</td>\n",
       "    </tr>\n",
       "    <tr>\n",
       "      <th>4</th>\n",
       "      <td>Sankt Moritz</td>\n",
       "      <td>Switzerland</td>\n",
       "      <td>2</td>\n",
       "      <td>[1948, 1928]</td>\n",
       "    </tr>\n",
       "  </tbody>\n",
       "</table>\n",
       "</div>"
      ],
      "text/plain": [
       "           city        country  number of times hosted  \\\n",
       "0        London  Great Britain                       4   \n",
       "1        Athina         Greece                       3   \n",
       "2         Paris         France                       3   \n",
       "3   Los Angeles  United States                       3   \n",
       "4  Sankt Moritz    Switzerland                       2   \n",
       "\n",
       "          years when hosted  \n",
       "0  [1944, 1908, 1948, 2012]  \n",
       "1        [2004, 1896, 1906]  \n",
       "2        [1900, 2024, 1924]  \n",
       "3        [1932, 1984, 2028]  \n",
       "4              [1948, 1928]  "
      ]
     },
     "execution_count": 103,
     "metadata": {},
     "output_type": "execute_result"
    }
   ],
   "source": [
    "print('Cities hosting the Olympics:')\n",
    "\n",
    "df = hosts \\\n",
    "    .groupBy(hosts.city, hosts.country) \\\n",
    "    .agg(F.count('year').alias('number of times hosted'), F.collect_set('year').alias('years when hosted')) \\\n",
    "    .orderBy('number of times hosted', ascending=False)\n",
    "    \n",
    "df.limit(5).toPandas()"
   ]
  }
 ],
 "metadata": {
  "kernelspec": {
   "display_name": "base",
   "language": "python",
   "name": "python3"
  },
  "language_info": {
   "codemirror_mode": {
    "name": "ipython",
    "version": 3
   },
   "file_extension": ".py",
   "mimetype": "text/x-python",
   "name": "python",
   "nbconvert_exporter": "python",
   "pygments_lexer": "ipython3",
   "version": "3.11.7"
  }
 },
 "nbformat": 4,
 "nbformat_minor": 2
}
